{
 "cells": [
  {
   "cell_type": "markdown",
   "metadata": {
    "collapsed": true
   },
   "source": [
    "## COMP47560 \n",
    "## Coding & Software Engineering\n",
    "## Assignment 1\n",
    "## Hangman\n",
    "\n",
    "## Irene Stone\n",
    "## Student Number: 17205388\n",
    "\n",
    "## 28th Feb 2018\n"
   ]
  },
  {
   "cell_type": "code",
   "execution_count": 1,
   "metadata": {},
   "outputs": [],
   "source": [
    "def hangman():\n",
    "    \n",
    "    print ('************************')\n",
    "    print ('***Welcome to Hangman***')\n",
    "    print ('************************')\n",
    "    print ('*******Good luck********')\n",
    "    print ('************************')\n",
    "\n",
    "    candidate_words = ['read', 'television', 'computer', 'laptop', 'school', 'grass', 'hospital', 'university', 'estate', 'movie', 'country', 'amazing', 'country']\n",
    " \n",
    "    import random\n",
    "    word = random.choice(candidate_words)\n",
    "\n",
    "    word_list = []\n",
    "    state_play = []     \n",
    "    \n",
    "\n",
    "    for character in word:\n",
    "        word_list.append(character)  #making chosen word into a list (string to list)\n",
    "        state_play.append(\"*\")       #creating a list with stars same length as word\n",
    " \n",
    "    x = 0\n",
    "#    total_guesses = len(word) + 4    #sets the number of guesses to be 4 more than the length of the word\n",
    "    total_guesses = 6\n",
    "    \n",
    "    print ('Word       Number of Guesses Left       Guess a Letter')\n",
    "    print ('---------------------------------------------------------------------------------------------')\n",
    "\n",
    "\n",
    "    while x < total_guesses:\n",
    "\n",
    "        for i in state_play:  # looking at each item in star_list\n",
    "            print(i, end='') # The end=' '  a space after the end of the statement instead of a new line character.\n",
    "\n",
    "        print(\"    You have\", total_guesses, \"guesses left      \", end='      ')\n",
    "        guess = input(\" What is your guess?:   \" )\n",
    "        \n",
    "        if guess == '99':\n",
    "            break \n",
    "        \n",
    "        check = False\n",
    "        for index, item in enumerate(word_list):    # for item in word_list:\n",
    "            if item == guess:\n",
    "                state_play[index] = guess\n",
    "                check = True\n",
    "        \n",
    "        if not check:\n",
    "            total_guesses = total_guesses - 1  #only decrement by 1 if the guess is incorrect\n",
    "\n",
    "        if state_play == word_list:\n",
    "            print ('\\n')\n",
    "            print ('*******************************************')\n",
    "            print(\"You win, the word was\", word, '. Well done!')\n",
    "            print('*******************************************')\n",
    "            break\n",
    "            \n",
    "    if state_play != word_list:\n",
    "        print ('--------------------------------')\n",
    "        print (\"Try again, the word was......\", word)\n"
   ]
  },
  {
   "cell_type": "markdown",
   "metadata": {},
   "source": [
    "#Example of winning the game"
   ]
  },
  {
   "cell_type": "code",
   "execution_count": 2,
   "metadata": {},
   "outputs": [
    {
     "name": "stdout",
     "output_type": "stream",
     "text": [
      "************************\n",
      "***Welcome to Hangman***\n",
      "************************\n",
      "*******Good luck********\n",
      "************************\n",
      "Word       Number of Guesses Left       Guess a Letter\n",
      "---------------------------------------------------------------------------------------------\n",
      "**********    You have 6 guesses left             What is your guess?:   u\n",
      "**********    You have 5 guesses left             What is your guess?:   m\n",
      "**********    You have 4 guesses left             What is your guess?:   i\n",
      "*****i*i**    You have 4 guesses left             What is your guess?:   g\n",
      "*****i*i**    You have 3 guesses left             What is your guess?:   t\n",
      "t****i*i**    You have 3 guesses left             What is your guess?:   e\n",
      "te*e*i*i**    You have 3 guesses left             What is your guess?:   l\n",
      "tele*i*i**    You have 3 guesses left             What is your guess?:   v\n",
      "televi*i**    You have 3 guesses left             What is your guess?:   s\n",
      "televisi**    You have 3 guesses left             What is your guess?:   o\n",
      "televisio*    You have 3 guesses left             What is your guess?:   n\n",
      "\n",
      "\n",
      "*******************************************\n",
      "You win, the word was television . Well done!\n",
      "*******************************************\n"
     ]
    }
   ],
   "source": [
    "hangman()"
   ]
  },
  {
   "cell_type": "markdown",
   "metadata": {},
   "source": [
    "#Example of losing the game"
   ]
  },
  {
   "cell_type": "code",
   "execution_count": 3,
   "metadata": {},
   "outputs": [
    {
     "name": "stdout",
     "output_type": "stream",
     "text": [
      "************************\n",
      "***Welcome to Hangman***\n",
      "************************\n",
      "*******Good luck********\n",
      "************************\n",
      "Word       Number of Guesses Left       Guess a Letter\n",
      "---------------------------------------------------------------------------------------------\n",
      "********    You have 6 guesses left             What is your guess?:   e\n",
      "********    You have 5 guesses left             What is your guess?:   a\n",
      "******a*    You have 5 guesses left             What is your guess?:   r\n",
      "******a*    You have 4 guesses left             What is your guess?:   i\n",
      "****i*a*    You have 4 guesses left             What is your guess?:   l\n",
      "****i*al    You have 4 guesses left             What is your guess?:   s\n",
      "**s*i*al    You have 4 guesses left             What is your guess?:   f\n",
      "**s*i*al    You have 3 guesses left             What is your guess?:   k\n",
      "**s*i*al    You have 2 guesses left             What is your guess?:   y\n",
      "**s*i*al    You have 1 guesses left             What is your guess?:   d\n",
      "--------------------------------\n",
      "Try again, the word was...... hospital\n"
     ]
    }
   ],
   "source": [
    "hangman()"
   ]
  },
  {
   "cell_type": "code",
   "execution_count": null,
   "metadata": {},
   "outputs": [],
   "source": []
  }
 ],
 "metadata": {
  "kernelspec": {
   "display_name": "Python 3",
   "language": "python",
   "name": "python3"
  },
  "language_info": {
   "codemirror_mode": {
    "name": "ipython",
    "version": 3
   },
   "file_extension": ".py",
   "mimetype": "text/x-python",
   "name": "python",
   "nbconvert_exporter": "python",
   "pygments_lexer": "ipython3",
   "version": "3.6.4"
  }
 },
 "nbformat": 4,
 "nbformat_minor": 2
}
